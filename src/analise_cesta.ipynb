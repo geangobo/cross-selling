{
 "cells": [
  {
   "cell_type": "markdown",
   "metadata": {},
   "source": [
    "# Análise de Cesta "
   ]
  },
  {
   "cell_type": "markdown",
   "metadata": {},
   "source": [
    "### 🎲 Utilizando o algoritmo \"A Priori\" de mineração de dados"
   ]
  },
  {
   "cell_type": "markdown",
   "metadata": {},
   "source": [
    "### 🔣 Dicionário de Dados"
   ]
  },
  {
   "cell_type": "markdown",
   "metadata": {},
   "source": [
    "**Legenda das Colunas da Tabela de Regras de Associação**\n",
    "\n",
    "* **`antecedents`**:\n",
    "    * O(s) código(s) do(s) produto(s) no lado esquerdo da regra (item X em \"SE compra X...\").\n",
    "    * Tipo: Texto (object) ou Número (int64), idealmente tratado como Texto.\n",
    "\n",
    "* **`consequents`**:\n",
    "    * O(s) código(s) do(s) produto(s) no lado direito da regra (item Y em \"...ENTÃO compra Y\").\n",
    "    * Tipo: Texto (object) ou Número (int64), idealmente tratado como Texto.\n",
    "\n",
    "* **`antecedent support`**:\n",
    "    * Frequência/proporção de transações que contêm o antecedente (X). `P(X)`.\n",
    "    * Tipo: Número Decimal (float64). *Formatar como Percentual (%) para visualização.*\n",
    "\n",
    "* **`consequent support`**:\n",
    "    * Frequência/proporção de transações que contêm o consequente (Y). `P(Y)`.\n",
    "    * Tipo: Número Decimal (float64). *Formatar como Percentual (%) para visualização.*\n",
    "\n",
    "* **`support`**:\n",
    "    * Frequência/proporção de transações que contêm *tanto* o antecedente (X) *quanto* o consequente (Y). `P(X e Y)`.\n",
    "    * Indica a popularidade geral da *combinação* X e Y.\n",
    "    * Tipo: Número Decimal (float64). *Formatar como Percentual (%) para visualização.*\n",
    "\n",
    "* **`confidence`**:\n",
    "    * Probabilidade de encontrar o consequente (Y) em uma transação, *dado que* ela já contém o antecedente (X). `P(Y | X)`.\n",
    "    * Mede a *confiabilidade* ou força preditiva da regra na direção X -> Y.\n",
    "    * Tipo: Número Decimal (float64). *Formatar como Percentual (%) para visualização.*\n",
    "\n",
    "* **`lift`**:\n",
    "    * Mede quantas vezes a presença de X *aumenta* a probabilidade de comprar Y, comparado à probabilidade normal de comprar Y. `Conf(X->Y) / Sup(Y)`.\n",
    "    * Lift > 1 indica associação positiva (interessante); Lift = 1 indica independência; Lift < 1 indica associação negativa.\n",
    "    * Tipo: Número Decimal (float64). *Formatar como Número Decimal (ex: 2 casas).*\n",
    "\n",
    "* **`representativity`**: (Atenção: Métrica menos padronizada, pode ter definições variadas)\n",
    "    * Tenta medir quão \"representativa\" é a regra ou a dependência encontrada, possivelmente comparando métricas observadas com esperadas.\n",
    "    * *Verificar a documentação da biblioteca usada ou a fórmula específica para interpretação precisa.*\n",
    "    * Tipo: Número Decimal (float64). *Formatar como Número Decimal.*\n",
    "\n",
    "* **`leverage`**:\n",
    "    * Mede a diferença entre a frequência observada de X e Y juntos e a frequência esperada se fossem independentes. `Sup(X,Y) - Sup(X)*Sup(Y)`.\n",
    "    * Valores > 0 indicam que aparecem juntos mais que o esperado.\n",
    "    * Tipo: Número Decimal (float64). *Formatar como Número Decimal.*\n",
    "\n",
    "* **`conviction`**:\n",
    "    * Mede o grau de \"implicação\" da regra. Alto valor sugere que o consequente depende fortemente do antecedente. `(1-Sup(Y))/(1-Conf(X->Y))`.\n",
    "    * Pode ser muito alto ou infinito.\n",
    "    * Tipo: Número Decimal (float64). *Formatar como Número Decimal.*\n",
    "\n",
    "* **`zhangs_metric`**:\n",
    "    * Métrica robusta (varia de -1 a +1) que mede a associação levando em conta suporte e confiança, sem ser afetada pela popularidade isolada.\n",
    "    * Valores próximos de +1 indicam forte associação positiva.\n",
    "    * Tipo: Número Decimal (float64). *Formatar como Número Decimal.*\n",
    "\n",
    "* **`jaccard`**:\n",
    "    * Coeficiente de Jaccard: similaridade entre os conjuntos de transações contendo X e Y. `Sup(X,Y) / (Sup(X)+Sup(Y)-Sup(X,Y))`.\n",
    "    * Valor entre 0 e 1 (pode ser visto como %).\n",
    "    * Tipo: Número Decimal (float64). *Formatar como Número Decimal ou Percentual (%).*\n",
    "\n",
    "* **`certainty`**:\n",
    "    * Mede o ganho de \"certeza\" proporcionado pela regra. `(Conf(X->Y) - Sup(Y)) / (1 - Sup(Y))`.\n",
    "    * Varia de -1 a 1.\n",
    "    * Tipo: Número Decimal (float64). *Formatar como Número Decimal.*\n",
    "\n",
    "* **`kulczynski`**:\n",
    "    * Média das confianças nas duas direções: `0.5 * (Conf(X->Y) + Conf(Y->X))`.\n",
    "    * Valor entre 0 e 1 (pode ser visto como %).\n",
    "    * Tipo: Número Decimal (float64). *Formatar como Número Decimal ou Percentual (%).*\n",
    "\n",
    "* **`Nomes_Antecedents`**:\n",
    "    * O(s) nome(s) legível(is) do(s) produto(s) antecedente(s).\n",
    "    * Tipo: Texto (object).\n",
    "\n",
    "* **`Nomes_Consequents`**:\n",
    "    * O(s) nome(s) legível(is) do(s) produto(s) consequente(s).\n",
    "    * Tipo: Texto (object).\n"
   ]
  },
  {
   "cell_type": "markdown",
   "metadata": {},
   "source": [
    "### 📚 Packages"
   ]
  },
  {
   "cell_type": "code",
   "execution_count": 1,
   "metadata": {},
   "outputs": [],
   "source": [
    "import polars as pl\n",
    "import pandas as pd\n",
    "from mlxtend.preprocessing import TransactionEncoder\n",
    "from mlxtend.frequent_patterns import apriori, association_rules\n",
    "import matplotlib.pyplot as plt\n",
    "import seaborn as sns\n",
    "import networkx as nx\n"
   ]
  },
  {
   "cell_type": "markdown",
   "metadata": {},
   "source": [
    "### 🧩 E.D.A\n",
    "- Dados extraídos do Kaggle - [Brazilian E-Commerce Public Dataset by Olist](https://www.kaggle.com/datasets/olistbr/brazilian-ecommerce)"
   ]
  },
  {
   "cell_type": "code",
   "execution_count": 2,
   "metadata": {},
   "outputs": [],
   "source": [
    "orders = pl.read_csv(\"../data/olist_orders_dataset.csv\")\n",
    "order_items = pl.read_csv(\"../data/olist_order_items_dataset.csv\")\n",
    "products = pl.read_csv(\"../data/olist_products_dataset.csv\")"
   ]
  },
  {
   "cell_type": "code",
   "execution_count": 7,
   "metadata": {},
   "outputs": [
    {
     "data": {
      "text/html": [
       "<div><style>\n",
       ".dataframe > thead > tr,\n",
       ".dataframe > tbody > tr {\n",
       "  text-align: right;\n",
       "  white-space: pre-wrap;\n",
       "}\n",
       "</style>\n",
       "<small>shape: (5, 8)</small><table border=\"1\" class=\"dataframe\"><thead><tr><th>order_id</th><th>customer_id</th><th>order_status</th><th>order_purchase_timestamp</th><th>order_approved_at</th><th>order_delivered_carrier_date</th><th>order_delivered_customer_date</th><th>order_estimated_delivery_date</th></tr><tr><td>str</td><td>str</td><td>str</td><td>str</td><td>str</td><td>str</td><td>str</td><td>str</td></tr></thead><tbody><tr><td>&quot;e481f51cbdc54678b7cc49136f2d6a…</td><td>&quot;9ef432eb6251297304e76186b10a92…</td><td>&quot;delivered&quot;</td><td>&quot;2017-10-02 10:56:33&quot;</td><td>&quot;2017-10-02 11:07:15&quot;</td><td>&quot;2017-10-04 19:55:00&quot;</td><td>&quot;2017-10-10 21:25:13&quot;</td><td>&quot;2017-10-18 00:00:00&quot;</td></tr><tr><td>&quot;53cdb2fc8bc7dce0b6741e21502734…</td><td>&quot;b0830fb4747a6c6d20dea0b8c802d7…</td><td>&quot;delivered&quot;</td><td>&quot;2018-07-24 20:41:37&quot;</td><td>&quot;2018-07-26 03:24:27&quot;</td><td>&quot;2018-07-26 14:31:00&quot;</td><td>&quot;2018-08-07 15:27:45&quot;</td><td>&quot;2018-08-13 00:00:00&quot;</td></tr><tr><td>&quot;47770eb9100c2d0c44946d9cf07ec6…</td><td>&quot;41ce2a54c0b03bf3443c3d931a3670…</td><td>&quot;delivered&quot;</td><td>&quot;2018-08-08 08:38:49&quot;</td><td>&quot;2018-08-08 08:55:23&quot;</td><td>&quot;2018-08-08 13:50:00&quot;</td><td>&quot;2018-08-17 18:06:29&quot;</td><td>&quot;2018-09-04 00:00:00&quot;</td></tr><tr><td>&quot;949d5b44dbf5de918fe9c16f97b45f…</td><td>&quot;f88197465ea7920adcdbec7375364d…</td><td>&quot;delivered&quot;</td><td>&quot;2017-11-18 19:28:06&quot;</td><td>&quot;2017-11-18 19:45:59&quot;</td><td>&quot;2017-11-22 13:39:59&quot;</td><td>&quot;2017-12-02 00:28:42&quot;</td><td>&quot;2017-12-15 00:00:00&quot;</td></tr><tr><td>&quot;ad21c59c0840e6cb83a9ceb5573f81…</td><td>&quot;8ab97904e6daea8866dbdbc4fb7aad…</td><td>&quot;delivered&quot;</td><td>&quot;2018-02-13 21:18:39&quot;</td><td>&quot;2018-02-13 22:20:29&quot;</td><td>&quot;2018-02-14 19:46:34&quot;</td><td>&quot;2018-02-16 18:17:02&quot;</td><td>&quot;2018-02-26 00:00:00&quot;</td></tr></tbody></table></div>"
      ],
      "text/plain": [
       "shape: (5, 8)\n",
       "┌────────────┬────────────┬────────────┬───────────┬───────────┬───────────┬───────────┬───────────┐\n",
       "│ order_id   ┆ customer_i ┆ order_stat ┆ order_pur ┆ order_app ┆ order_del ┆ order_del ┆ order_est │\n",
       "│ ---        ┆ d          ┆ us         ┆ chase_tim ┆ roved_at  ┆ ivered_ca ┆ ivered_cu ┆ imated_de │\n",
       "│ str        ┆ ---        ┆ ---        ┆ estamp    ┆ ---       ┆ rrier_dat ┆ stomer_da ┆ livery_da │\n",
       "│            ┆ str        ┆ str        ┆ ---       ┆ str       ┆ e         ┆ te        ┆ te        │\n",
       "│            ┆            ┆            ┆ str       ┆           ┆ ---       ┆ ---       ┆ ---       │\n",
       "│            ┆            ┆            ┆           ┆           ┆ str       ┆ str       ┆ str       │\n",
       "╞════════════╪════════════╪════════════╪═══════════╪═══════════╪═══════════╪═══════════╪═══════════╡\n",
       "│ e481f51cbd ┆ 9ef432eb62 ┆ delivered  ┆ 2017-10-0 ┆ 2017-10-0 ┆ 2017-10-0 ┆ 2017-10-1 ┆ 2017-10-1 │\n",
       "│ c54678b7cc ┆ 51297304e7 ┆            ┆ 2         ┆ 2         ┆ 4         ┆ 0         ┆ 8         │\n",
       "│ 49136f2d6a ┆ 6186b10a92 ┆            ┆ 10:56:33  ┆ 11:07:15  ┆ 19:55:00  ┆ 21:25:13  ┆ 00:00:00  │\n",
       "│ …          ┆ …          ┆            ┆           ┆           ┆           ┆           ┆           │\n",
       "│ 53cdb2fc8b ┆ b0830fb474 ┆ delivered  ┆ 2018-07-2 ┆ 2018-07-2 ┆ 2018-07-2 ┆ 2018-08-0 ┆ 2018-08-1 │\n",
       "│ c7dce0b674 ┆ 7a6c6d20de ┆            ┆ 4         ┆ 6         ┆ 6         ┆ 7         ┆ 3         │\n",
       "│ 1e21502734 ┆ a0b8c802d7 ┆            ┆ 20:41:37  ┆ 03:24:27  ┆ 14:31:00  ┆ 15:27:45  ┆ 00:00:00  │\n",
       "│ …          ┆ …          ┆            ┆           ┆           ┆           ┆           ┆           │\n",
       "│ 47770eb910 ┆ 41ce2a54c0 ┆ delivered  ┆ 2018-08-0 ┆ 2018-08-0 ┆ 2018-08-0 ┆ 2018-08-1 ┆ 2018-09-0 │\n",
       "│ 0c2d0c4494 ┆ b03bf3443c ┆            ┆ 8         ┆ 8         ┆ 8         ┆ 7         ┆ 4         │\n",
       "│ 6d9cf07ec6 ┆ 3d931a3670 ┆            ┆ 08:38:49  ┆ 08:55:23  ┆ 13:50:00  ┆ 18:06:29  ┆ 00:00:00  │\n",
       "│ …          ┆ …          ┆            ┆           ┆           ┆           ┆           ┆           │\n",
       "│ 949d5b44db ┆ f88197465e ┆ delivered  ┆ 2017-11-1 ┆ 2017-11-1 ┆ 2017-11-2 ┆ 2017-12-0 ┆ 2017-12-1 │\n",
       "│ f5de918fe9 ┆ a7920adcdb ┆            ┆ 8         ┆ 8         ┆ 2         ┆ 2         ┆ 5         │\n",
       "│ c16f97b45f ┆ ec7375364d ┆            ┆ 19:28:06  ┆ 19:45:59  ┆ 13:39:59  ┆ 00:28:42  ┆ 00:00:00  │\n",
       "│ …          ┆ …          ┆            ┆           ┆           ┆           ┆           ┆           │\n",
       "│ ad21c59c08 ┆ 8ab97904e6 ┆ delivered  ┆ 2018-02-1 ┆ 2018-02-1 ┆ 2018-02-1 ┆ 2018-02-1 ┆ 2018-02-2 │\n",
       "│ 40e6cb83a9 ┆ daea8866db ┆            ┆ 3         ┆ 3         ┆ 4         ┆ 6         ┆ 6         │\n",
       "│ ceb5573f81 ┆ dbc4fb7aad ┆            ┆ 21:18:39  ┆ 22:20:29  ┆ 19:46:34  ┆ 18:17:02  ┆ 00:00:00  │\n",
       "│ …          ┆ …          ┆            ┆           ┆           ┆           ┆           ┆           │\n",
       "└────────────┴────────────┴────────────┴───────────┴───────────┴───────────┴───────────┴───────────┘"
      ]
     },
     "execution_count": 7,
     "metadata": {},
     "output_type": "execute_result"
    }
   ],
   "source": [
    "orders.head()"
   ]
  },
  {
   "cell_type": "code",
   "execution_count": 8,
   "metadata": {},
   "outputs": [
    {
     "data": {
      "text/html": [
       "<div><style>\n",
       ".dataframe > thead > tr,\n",
       ".dataframe > tbody > tr {\n",
       "  text-align: right;\n",
       "  white-space: pre-wrap;\n",
       "}\n",
       "</style>\n",
       "<small>shape: (5, 7)</small><table border=\"1\" class=\"dataframe\"><thead><tr><th>order_id</th><th>order_item_id</th><th>product_id</th><th>seller_id</th><th>shipping_limit_date</th><th>price</th><th>freight_value</th></tr><tr><td>str</td><td>i64</td><td>str</td><td>str</td><td>str</td><td>f64</td><td>f64</td></tr></thead><tbody><tr><td>&quot;00010242fe8c5a6d1ba2dd792cb162…</td><td>1</td><td>&quot;4244733e06e7ecb4970a6e2683c13e…</td><td>&quot;48436dade18ac8b2bce089ec2a0412…</td><td>&quot;2017-09-19 09:45:35&quot;</td><td>58.9</td><td>13.29</td></tr><tr><td>&quot;00018f77f2f0320c557190d7a144bd…</td><td>1</td><td>&quot;e5f2d52b802189ee658865ca93d83a…</td><td>&quot;dd7ddc04e1b6c2c614352b383efe2d…</td><td>&quot;2017-05-03 11:05:13&quot;</td><td>239.9</td><td>19.93</td></tr><tr><td>&quot;000229ec398224ef6ca0657da4fc70…</td><td>1</td><td>&quot;c777355d18b72b67abbeef9df44fd0…</td><td>&quot;5b51032eddd242adc84c38acab88f2…</td><td>&quot;2018-01-18 14:48:30&quot;</td><td>199.0</td><td>17.87</td></tr><tr><td>&quot;00024acbcdf0a6daa1e931b038114c…</td><td>1</td><td>&quot;7634da152a4610f1595efa32f14722…</td><td>&quot;9d7a1d34a5052409006425275ba1c2…</td><td>&quot;2018-08-15 10:10:18&quot;</td><td>12.99</td><td>12.79</td></tr><tr><td>&quot;00042b26cf59d7ce69dfabb4e55b4f…</td><td>1</td><td>&quot;ac6c3623068f30de03045865e4e100…</td><td>&quot;df560393f3a51e74553ab94004ba5c…</td><td>&quot;2017-02-13 13:57:51&quot;</td><td>199.9</td><td>18.14</td></tr></tbody></table></div>"
      ],
      "text/plain": [
       "shape: (5, 7)\n",
       "┌───────────────┬──────────────┬──────────────┬──────────────┬──────────────┬───────┬──────────────┐\n",
       "│ order_id      ┆ order_item_i ┆ product_id   ┆ seller_id    ┆ shipping_lim ┆ price ┆ freight_valu │\n",
       "│ ---           ┆ d            ┆ ---          ┆ ---          ┆ it_date      ┆ ---   ┆ e            │\n",
       "│ str           ┆ ---          ┆ str          ┆ str          ┆ ---          ┆ f64   ┆ ---          │\n",
       "│               ┆ i64          ┆              ┆              ┆ str          ┆       ┆ f64          │\n",
       "╞═══════════════╪══════════════╪══════════════╪══════════════╪══════════════╪═══════╪══════════════╡\n",
       "│ 00010242fe8c5 ┆ 1            ┆ 4244733e06e7 ┆ 48436dade18a ┆ 2017-09-19   ┆ 58.9  ┆ 13.29        │\n",
       "│ a6d1ba2dd792c ┆              ┆ ecb4970a6e26 ┆ c8b2bce089ec ┆ 09:45:35     ┆       ┆              │\n",
       "│ b162…         ┆              ┆ 83c13e…      ┆ 2a0412…      ┆              ┆       ┆              │\n",
       "│ 00018f77f2f03 ┆ 1            ┆ e5f2d52b8021 ┆ dd7ddc04e1b6 ┆ 2017-05-03   ┆ 239.9 ┆ 19.93        │\n",
       "│ 20c557190d7a1 ┆              ┆ 89ee658865ca ┆ c2c614352b38 ┆ 11:05:13     ┆       ┆              │\n",
       "│ 44bd…         ┆              ┆ 93d83a…      ┆ 3efe2d…      ┆              ┆       ┆              │\n",
       "│ 000229ec39822 ┆ 1            ┆ c777355d18b7 ┆ 5b51032eddd2 ┆ 2018-01-18   ┆ 199.0 ┆ 17.87        │\n",
       "│ 4ef6ca0657da4 ┆              ┆ 2b67abbeef9d ┆ 42adc84c38ac ┆ 14:48:30     ┆       ┆              │\n",
       "│ fc70…         ┆              ┆ f44fd0…      ┆ ab88f2…      ┆              ┆       ┆              │\n",
       "│ 00024acbcdf0a ┆ 1            ┆ 7634da152a46 ┆ 9d7a1d34a505 ┆ 2018-08-15   ┆ 12.99 ┆ 12.79        │\n",
       "│ 6daa1e931b038 ┆              ┆ 10f1595efa32 ┆ 240900642527 ┆ 10:10:18     ┆       ┆              │\n",
       "│ 114c…         ┆              ┆ f14722…      ┆ 5ba1c2…      ┆              ┆       ┆              │\n",
       "│ 00042b26cf59d ┆ 1            ┆ ac6c3623068f ┆ df560393f3a5 ┆ 2017-02-13   ┆ 199.9 ┆ 18.14        │\n",
       "│ 7ce69dfabb4e5 ┆              ┆ 30de03045865 ┆ 1e74553ab940 ┆ 13:57:51     ┆       ┆              │\n",
       "│ 5b4f…         ┆              ┆ e4e100…      ┆ 04ba5c…      ┆              ┆       ┆              │\n",
       "└───────────────┴──────────────┴──────────────┴──────────────┴──────────────┴───────┴──────────────┘"
      ]
     },
     "execution_count": 8,
     "metadata": {},
     "output_type": "execute_result"
    }
   ],
   "source": [
    "order_items.head()"
   ]
  },
  {
   "cell_type": "code",
   "execution_count": 9,
   "metadata": {},
   "outputs": [
    {
     "data": {
      "text/html": [
       "<div><style>\n",
       ".dataframe > thead > tr,\n",
       ".dataframe > tbody > tr {\n",
       "  text-align: right;\n",
       "  white-space: pre-wrap;\n",
       "}\n",
       "</style>\n",
       "<small>shape: (5, 9)</small><table border=\"1\" class=\"dataframe\"><thead><tr><th>product_id</th><th>product_category_name</th><th>product_name_lenght</th><th>product_description_lenght</th><th>product_photos_qty</th><th>product_weight_g</th><th>product_length_cm</th><th>product_height_cm</th><th>product_width_cm</th></tr><tr><td>str</td><td>str</td><td>i64</td><td>i64</td><td>i64</td><td>i64</td><td>i64</td><td>i64</td><td>i64</td></tr></thead><tbody><tr><td>&quot;1e9e8ef04dbcff4541ed26657ea517…</td><td>&quot;perfumaria&quot;</td><td>40</td><td>287</td><td>1</td><td>225</td><td>16</td><td>10</td><td>14</td></tr><tr><td>&quot;3aa071139cb16b67ca9e5dea641aaa…</td><td>&quot;artes&quot;</td><td>44</td><td>276</td><td>1</td><td>1000</td><td>30</td><td>18</td><td>20</td></tr><tr><td>&quot;96bd76ec8810374ed1b65e29197571…</td><td>&quot;esporte_lazer&quot;</td><td>46</td><td>250</td><td>1</td><td>154</td><td>18</td><td>9</td><td>15</td></tr><tr><td>&quot;cef67bcfe19066a932b7673e239eb2…</td><td>&quot;bebes&quot;</td><td>27</td><td>261</td><td>1</td><td>371</td><td>26</td><td>4</td><td>26</td></tr><tr><td>&quot;9dc1a7de274444849c219cff195d0b…</td><td>&quot;utilidades_domesticas&quot;</td><td>37</td><td>402</td><td>4</td><td>625</td><td>20</td><td>17</td><td>13</td></tr></tbody></table></div>"
      ],
      "text/plain": [
       "shape: (5, 9)\n",
       "┌───────────┬───────────┬───────────┬───────────┬───┬───────────┬───────────┬───────────┬──────────┐\n",
       "│ product_i ┆ product_c ┆ product_n ┆ product_d ┆ … ┆ product_w ┆ product_l ┆ product_h ┆ product_ │\n",
       "│ d         ┆ ategory_n ┆ ame_lengh ┆ escriptio ┆   ┆ eight_g   ┆ ength_cm  ┆ eight_cm  ┆ width_cm │\n",
       "│ ---       ┆ ame       ┆ t         ┆ n_lenght  ┆   ┆ ---       ┆ ---       ┆ ---       ┆ ---      │\n",
       "│ str       ┆ ---       ┆ ---       ┆ ---       ┆   ┆ i64       ┆ i64       ┆ i64       ┆ i64      │\n",
       "│           ┆ str       ┆ i64       ┆ i64       ┆   ┆           ┆           ┆           ┆          │\n",
       "╞═══════════╪═══════════╪═══════════╪═══════════╪═══╪═══════════╪═══════════╪═══════════╪══════════╡\n",
       "│ 1e9e8ef04 ┆ perfumari ┆ 40        ┆ 287       ┆ … ┆ 225       ┆ 16        ┆ 10        ┆ 14       │\n",
       "│ dbcff4541 ┆ a         ┆           ┆           ┆   ┆           ┆           ┆           ┆          │\n",
       "│ ed26657ea ┆           ┆           ┆           ┆   ┆           ┆           ┆           ┆          │\n",
       "│ 517…      ┆           ┆           ┆           ┆   ┆           ┆           ┆           ┆          │\n",
       "│ 3aa071139 ┆ artes     ┆ 44        ┆ 276       ┆ … ┆ 1000      ┆ 30        ┆ 18        ┆ 20       │\n",
       "│ cb16b67ca ┆           ┆           ┆           ┆   ┆           ┆           ┆           ┆          │\n",
       "│ 9e5dea641 ┆           ┆           ┆           ┆   ┆           ┆           ┆           ┆          │\n",
       "│ aaa…      ┆           ┆           ┆           ┆   ┆           ┆           ┆           ┆          │\n",
       "│ 96bd76ec8 ┆ esporte_l ┆ 46        ┆ 250       ┆ … ┆ 154       ┆ 18        ┆ 9         ┆ 15       │\n",
       "│ 810374ed1 ┆ azer      ┆           ┆           ┆   ┆           ┆           ┆           ┆          │\n",
       "│ b65e29197 ┆           ┆           ┆           ┆   ┆           ┆           ┆           ┆          │\n",
       "│ 571…      ┆           ┆           ┆           ┆   ┆           ┆           ┆           ┆          │\n",
       "│ cef67bcfe ┆ bebes     ┆ 27        ┆ 261       ┆ … ┆ 371       ┆ 26        ┆ 4         ┆ 26       │\n",
       "│ 19066a932 ┆           ┆           ┆           ┆   ┆           ┆           ┆           ┆          │\n",
       "│ b7673e239 ┆           ┆           ┆           ┆   ┆           ┆           ┆           ┆          │\n",
       "│ eb2…      ┆           ┆           ┆           ┆   ┆           ┆           ┆           ┆          │\n",
       "│ 9dc1a7de2 ┆ utilidade ┆ 37        ┆ 402       ┆ … ┆ 625       ┆ 20        ┆ 17        ┆ 13       │\n",
       "│ 74444849c ┆ s_domesti ┆           ┆           ┆   ┆           ┆           ┆           ┆          │\n",
       "│ 219cff195 ┆ cas       ┆           ┆           ┆   ┆           ┆           ┆           ┆          │\n",
       "│ d0b…      ┆           ┆           ┆           ┆   ┆           ┆           ┆           ┆          │\n",
       "└───────────┴───────────┴───────────┴───────────┴───┴───────────┴───────────┴───────────┴──────────┘"
      ]
     },
     "execution_count": 9,
     "metadata": {},
     "output_type": "execute_result"
    }
   ],
   "source": [
    "products.head()"
   ]
  },
  {
   "cell_type": "markdown",
   "metadata": {},
   "source": [
    "- Shape de cada DF"
   ]
  },
  {
   "cell_type": "code",
   "execution_count": 11,
   "metadata": {},
   "outputs": [
    {
     "name": "stdout",
     "output_type": "stream",
     "text": [
      "\n",
      " Ordem: (99441, 8)\n",
      " Ordem Produtos: (99441, 8) \n",
      " Produtos: (99441, 8)\n"
     ]
    }
   ],
   "source": [
    "print(f\"\\n Ordem: {orders.shape}\\n Ordem Produtos: {orders.shape} \\n Produtos: {orders.shape}\")"
   ]
  },
  {
   "cell_type": "markdown",
   "metadata": {},
   "source": [
    "- Verificando valores NaN"
   ]
  },
  {
   "cell_type": "code",
   "execution_count": null,
   "metadata": {},
   "outputs": [
    {
     "name": "stdout",
     "output_type": "stream",
     "text": [
      "Iniciando verificação geral de valores nulos...\n",
      "\n",
      "--- Verificando Nulos em 'orders' ---\n",
      "Colunas com valores nulos e suas contagens:\n",
      "- order_approved_at: 160\n",
      "- order_delivered_carrier_date: 1783\n",
      "- order_delivered_customer_date: 2965\n",
      "\n",
      "Total de valores nulos no DataFrame 'orders': 4908\n",
      "-----------------------------------------\n",
      "\n",
      "--- Verificando Nulos em 'order_items' ---\n",
      "Colunas com valores nulos e suas contagens:\n",
      "Nenhuma coluna com valores nulos encontrada.\n",
      "\n",
      "Total de valores nulos no DataFrame 'order_items': 0\n",
      "----------------------------------------------\n",
      "\n",
      "--- Verificando Nulos em 'products' ---\n",
      "Colunas com valores nulos e suas contagens:\n",
      "- product_category_name: 610\n",
      "- product_name_lenght: 610\n",
      "- product_description_lenght: 610\n",
      "- product_photos_qty: 610\n",
      "- product_weight_g: 2\n",
      "- product_length_cm: 2\n",
      "- product_height_cm: 2\n",
      "- product_width_cm: 2\n",
      "\n",
      "Total de valores nulos no DataFrame 'products': 2448\n",
      "-------------------------------------------\n",
      "\n",
      "Verificação de nulos concluída.\n"
     ]
    }
   ],
   "source": [
    "def reportar_nulos_polars(df: pl.DataFrame, nome_df: str):\n",
    "    \"\"\"\n",
    "    Verifica valores nulos em um DataFrame Polars e reporta as colunas com nulos.\n",
    "    USA .unpivot() e calcula o total corretamente.\n",
    "\n",
    "    Args:\n",
    "        df: O DataFrame Polars a ser verificado.\n",
    "        nome_df: Uma string com o nome do DataFrame para identificação na saída.\n",
    "    \"\"\"\n",
    "    print(f\"\\n--- Verificando Nulos em '{nome_df}' ---\")\n",
    "\n",
    "    # 1. Contar nulos em cada coluna\n",
    "    df_null_counts = df.null_count()\n",
    "\n",
    "    # 2. Transformar para formato longo e filtrar colunas com nulos > 0\n",
    "    df_null_long = df_null_counts.unpivot() # Colunas: 'variable', 'value'\n",
    "    df_null_filtered = df_null_long.filter(pl.col(\"value\") > 0)\n",
    "\n",
    "    # 3. Imprimir as colunas filtradas\n",
    "    print(\"Colunas com valores nulos e suas contagens:\")\n",
    "    if df_null_filtered.height == 0:\n",
    "        print(\"Nenhuma coluna com valores nulos encontrada.\")\n",
    "    else:\n",
    "        for row_dict in df_null_filtered.iter_rows(named=True):\n",
    "            coluna = row_dict['variable']\n",
    "            contagem = row_dict['value']\n",
    "            print(f\"- {coluna}: {contagem}\")\n",
    "\n",
    "    # --- CORREÇÃO AQUI ---\n",
    "    # 4. Calcular e imprimir o total de nulos\n",
    "    # Soma a coluna 'value' do DataFrame longo (df_null_long)\n",
    "    total_nulos = df_null_long['value'].sum()\n",
    "    # --- FIM DA CORREÇÃO ---\n",
    "\n",
    "    print(f\"\\nTotal de valores nulos no DataFrame '{nome_df}': {total_nulos}\")\n",
    "    print(\"-\" * (len(f\"--- Verificando Nulos em '{nome_df}' ---\") + 4))\n",
    "\n",
    "\n",
    "# --- Chamar a função para cada DataFrame (como antes) ---\n",
    "print(\"Iniciando verificação geral de valores nulos...\")\n",
    "\n",
    "dataframes_para_verificar = {\n",
    "    \"orders\": orders,\n",
    "    \"order_items\": order_items,\n",
    "    \"products\": products\n",
    "}\n",
    "\n",
    "for nome, df_atual in dataframes_para_verificar.items():\n",
    "    reportar_nulos_polars(df_atual, nome)\n"
   ]
  },
  {
   "cell_type": "markdown",
   "metadata": {},
   "source": [
    "### Separando os dados e agrupando por transação"
   ]
  },
  {
   "cell_type": "code",
   "execution_count": 3,
   "metadata": {},
   "outputs": [],
   "source": [
    "# Juntando pedidos com itens\n",
    "order_details = order_items.join(orders, on='order_id', how='inner')"
   ]
  },
  {
   "cell_type": "code",
   "execution_count": 4,
   "metadata": {},
   "outputs": [],
   "source": [
    "# Filtrando pedidos validos\n",
    "status_validos = ['delivered']\n",
    "order_details_filtered = order_details.filter(pl.col('order_status').is_in(status_validos))"
   ]
  },
  {
   "cell_type": "code",
   "execution_count": 5,
   "metadata": {},
   "outputs": [],
   "source": [
    "# Selecionando colunas chaves\n",
    "baskets_raw = order_details_filtered.select(['order_id', 'product_id'])"
   ]
  },
  {
   "cell_type": "code",
   "execution_count": 6,
   "metadata": {},
   "outputs": [],
   "source": [
    "# Garantindo tipos corretos\n",
    "baskets_typed = baskets_raw.with_columns(\n",
    "    pl.col('product_id').cast(pl.Utf8)\n",
    ")\n",
    "\n",
    "# Removendo duplicatas por transaçao\n",
    "basket_items_unique = baskets_typed.unique(subset=['order_id', 'product_id'], keep='first')"
   ]
  },
  {
   "cell_type": "markdown",
   "metadata": {},
   "source": [
    "- Agrupamento dse produtos por pedida que não teve sucesso no Polars, vou aplicar Pandas\n",
    "\n",
    "Analise o motivo do erro..."
   ]
  },
  {
   "cell_type": "code",
   "execution_count": 8,
   "metadata": {},
   "outputs": [
    {
     "ename": "TypeError",
     "evalue": "'ExprListNameSpace' object is not callable",
     "output_type": "error",
     "traceback": [
      "\u001b[1;31m---------------------------------------------------------------------------\u001b[0m",
      "\u001b[1;31mTypeError\u001b[0m                                 Traceback (most recent call last)",
      "Cell \u001b[1;32mIn[8], line 4\u001b[0m\n\u001b[0;32m      1\u001b[0m \u001b[38;5;66;03m# Agrupando produtos por pedido (Transação)\u001b[39;00m\n\u001b[0;32m      3\u001b[0m baskets_grouped \u001b[38;5;241m=\u001b[39m basket_items_unique\u001b[38;5;241m.\u001b[39mgroup_by(\u001b[38;5;124m'\u001b[39m\u001b[38;5;124morder_id\u001b[39m\u001b[38;5;124m'\u001b[39m)\u001b[38;5;241m.\u001b[39magg(\n\u001b[1;32m----> 4\u001b[0m     \u001b[43mpl\u001b[49m\u001b[38;5;241;43m.\u001b[39;49m\u001b[43mcol\u001b[49m\u001b[43m(\u001b[49m\u001b[38;5;124;43m'\u001b[39;49m\u001b[38;5;124;43mproduct_id\u001b[39;49m\u001b[38;5;124;43m'\u001b[39;49m\u001b[43m)\u001b[49m\u001b[38;5;241;43m.\u001b[39;49m\u001b[43mlist\u001b[49m\u001b[43m(\u001b[49m\u001b[43m)\u001b[49m\u001b[38;5;241m.\u001b[39malias(\u001b[38;5;124m'\u001b[39m\u001b[38;5;124mproducts\u001b[39m\u001b[38;5;124m'\u001b[39m)\n\u001b[0;32m      5\u001b[0m )\n",
      "\u001b[1;31mTypeError\u001b[0m: 'ExprListNameSpace' object is not callable"
     ]
    }
   ],
   "source": [
    "# Agrupando produtos por pedido (Transação)\n",
    "\n",
    "baskets_grouped = basket_items_unique.group_by('order_id').agg(\n",
    "    pl.col('product_id').list().alias('products')\n",
    ")"
   ]
  },
  {
   "cell_type": "code",
   "execution_count": 9,
   "metadata": {},
   "outputs": [
    {
     "name": "stdout",
     "output_type": "stream",
     "text": [
      "0.20.18\n",
      "ERRO no ambiente limpo: 'ExprListNameSpace' object is not callable\n"
     ]
    }
   ],
   "source": [
    "import polars as pl\n",
    "print(pl.__version__)\n",
    "df_teste = pl.DataFrame({'grupo': ['A', 'A', 'B'], 'item': ['x1', 'x2', 'y1']})\n",
    "try:\n",
    "    df_agrupado_teste = df_teste.group_by('grupo').agg(pl.col('item').list().alias('lista_itens'))\n",
    "    print(\"SUCESSO no ambiente limpo!\")\n",
    "    print(df_agrupado_teste)\n",
    "except Exception as e:\n",
    "    print(f\"ERRO no ambiente limpo: {e}\")"
   ]
  },
  {
   "cell_type": "markdown",
   "metadata": {},
   "source": [
    "- Agrupamento usando Pandas (temporário)"
   ]
  },
  {
   "cell_type": "code",
   "execution_count": 10,
   "metadata": {},
   "outputs": [
    {
     "name": "stdout",
     "output_type": "stream",
     "text": [
      "Convertido para Pandas. Shape: (100196, 2)\n",
      "Passo 6: Agrupamento com Pandas concluído. Número de cestas: 96478\n"
     ]
    }
   ],
   "source": [
    "transactions_list = None # Inicializar para o caso de erro\n",
    "try:\n",
    "    # Converter o DataFrame Polars para Pandas\n",
    "    basket_items_unique_pd = basket_items_unique.to_pandas()\n",
    "    print(f\"Convertido para Pandas. Shape: {basket_items_unique_pd.shape}\")\n",
    "\n",
    "    # Aplicar o groupby do Pandas para obter a lista de listas\n",
    "    # Usando a sintaxe que você confirmou que funciona\n",
    "    transactions_list = basket_items_unique_pd.groupby('order_id')['product_id'].apply(list).tolist()\n",
    "\n",
    "    print(f\"Passo 6: Agrupamento com Pandas concluído. Número de cestas: {len(transactions_list)}\")\n",
    "    # print(transactions_list[:5]) # Descomente para verificar as primeiras listas\n",
    "\n",
    "except Exception as e:\n",
    "    print(f\"Erro durante o Passo 6 (Conversão/Agrupamento Pandas): {e}\")"
   ]
  },
  {
   "cell_type": "markdown",
   "metadata": {},
   "source": [
    "### 📈 Aplicando TransactionEncoder e apriori:\n",
    "\n",
    "    Vamos transformar os dados e encontrar os itemsets frequentes e as regras de associação usando mlxtend."
   ]
  },
  {
   "cell_type": "markdown",
   "metadata": {},
   "source": [
    "#### Aplicando o TransactionEncoder: \n",
    "- Transforma a lista de listas 'transacoes' em formato one-hot encoded, isto é, cada coluna é um produto e cada linha é uma transação. "
   ]
  },
  {
   "cell_type": "code",
   "execution_count": 11,
   "metadata": {},
   "outputs": [
    {
     "name": "stdout",
     "output_type": "stream",
     "text": [
      "\n",
      "Passo 7: Lista de transações pronta.\n",
      "Passo 8: Aplicando TransactionEncoder e criando DataFrame one-hot encoded (Pandas)...\n",
      "\n",
      "--- Preparação Concluída ---\n",
      "DataFrame 'df_encoded_pd' (Pandas) pronto para a função apriori do mlxtend.\n",
      "Shape: (96478, 32216)\n"
     ]
    }
   ],
   "source": [
    "if transactions_list is not None:\n",
    "    # 7. Preparar Lista para TransactionEncoder (Já temos 'transactions_list')\n",
    "    print(\"\\nPasso 7: Lista de transações pronta.\")\n",
    "\n",
    "    # 8. Aplicar TransactionEncoder e Criar DataFrame Pandas (como antes)\n",
    "    print(\"Passo 8: Aplicando TransactionEncoder e criando DataFrame one-hot encoded (Pandas)...\")\n",
    "    te = TransactionEncoder()\n",
    "    te_ary = te.fit(transactions_list).transform(transactions_list)\n",
    "    # O resultado df_encoded_pd será um DataFrame Pandas\n",
    "    df_encoded_pd = pd.DataFrame(te_ary, columns=te.columns_)\n",
    "\n",
    "    print(\"\\n--- Preparação Concluída ---\")\n",
    "    print(\"DataFrame 'df_encoded_pd' (Pandas) pronto para a função apriori do mlxtend.\")\n",
    "    print(f\"Shape: {df_encoded_pd.shape}\")\n",
    "    # print(df_encoded_pd.head())\n",
    "\n",
    "else:\n",
    "    print(\"\\nNão foi possível continuar devido a erro no passo 6.\")"
   ]
  },
  {
   "cell_type": "code",
   "execution_count": 12,
   "metadata": {},
   "outputs": [
    {
     "name": "stdout",
     "output_type": "stream",
     "text": [
      "   00066f42aeeb9f3007548bb9d3f33c38  00088930e925c41fd95ebfe695fd2655  \\\n",
      "0                             False                             False   \n",
      "1                             False                             False   \n",
      "2                             False                             False   \n",
      "3                             False                             False   \n",
      "4                             False                             False   \n",
      "\n",
      "   0009406fd7479715e4bef61dd91f2462  000b8f95fcb9e0096488278317764d19  \\\n",
      "0                             False                             False   \n",
      "1                             False                             False   \n",
      "2                             False                             False   \n",
      "3                             False                             False   \n",
      "4                             False                             False   \n",
      "\n",
      "   000d9be29b5207b54e86aa1b1ac54872  0011c512eb256aa0dbbb544d8dffcf6e  \\\n",
      "0                             False                             False   \n",
      "1                             False                             False   \n",
      "2                             False                             False   \n",
      "3                             False                             False   \n",
      "4                             False                             False   \n",
      "\n",
      "   00126f27c813603687e6ce486d909d01  001795ec6f1b187d37335e1c4704762e  \\\n",
      "0                             False                             False   \n",
      "1                             False                             False   \n",
      "2                             False                             False   \n",
      "3                             False                             False   \n",
      "4                             False                             False   \n",
      "\n",
      "   001b237c0e9bb435f2e54071129237e9  001b72dfd63e9833e8c02742adf472e3  ...  \\\n",
      "0                             False                             False  ...   \n",
      "1                             False                             False  ...   \n",
      "2                             False                             False  ...   \n",
      "3                             False                             False  ...   \n",
      "4                             False                             False  ...   \n",
      "\n",
      "   ffef256879dbadcab7e77950f4f4a195  fff0a542c3c62682f23305214eaeaa24  \\\n",
      "0                             False                             False   \n",
      "1                             False                             False   \n",
      "2                             False                             False   \n",
      "3                             False                             False   \n",
      "4                             False                             False   \n",
      "\n",
      "   fff1059cd247279f3726b7696c66e44e  fff28f91211774864a1000f918ed00cc  \\\n",
      "0                             False                             False   \n",
      "1                             False                             False   \n",
      "2                             False                             False   \n",
      "3                             False                             False   \n",
      "4                             False                             False   \n",
      "\n",
      "   fff515ea94dbf35d54d256b3e39f0fea  fff6177642830a9a94a0f2cba5e476d1  \\\n",
      "0                             False                             False   \n",
      "1                             False                             False   \n",
      "2                             False                             False   \n",
      "3                             False                             False   \n",
      "4                             False                             False   \n",
      "\n",
      "   fff81cc3158d2725c0655ab9ba0f712c  fff9553ac224cec9d15d49f5a263411f  \\\n",
      "0                             False                             False   \n",
      "1                             False                             False   \n",
      "2                             False                             False   \n",
      "3                             False                             False   \n",
      "4                             False                             False   \n",
      "\n",
      "   fffdb2d0ec8d6a61f0a0a0db3f25b441  fffe9eeff12fcbd74a2f2b007dde0c58  \n",
      "0                             False                             False  \n",
      "1                             False                             False  \n",
      "2                             False                             False  \n",
      "3                             False                             False  \n",
      "4                             False                             False  \n",
      "\n",
      "[5 rows x 32216 columns]\n"
     ]
    }
   ],
   "source": [
    "print(df_encoded_pd.head())"
   ]
  },
  {
   "cell_type": "markdown",
   "metadata": {},
   "source": [
    "#### Aplicando o Algoritmo Apriori: \n",
    "- Encontrar o conjunto de itens, vulgo 'itemset' que aparecem juntos com frequência;\n",
    "- O 'min_support' define a frequência mínima para um itemset ser considerado frequente;\n",
    "Ex: min_support=0.01 significa que o itemset deve aparecer em pelo menos 1% das transações;\n",
    "\n",
    "**Ajuste 'min_support' conforme necessário!** Comece com um valor pequeno (ex: 0.01 ou 0.005)"
   ]
  },
  {
   "cell_type": "code",
   "execution_count": 13,
   "metadata": {},
   "outputs": [
    {
     "name": "stdout",
     "output_type": "stream",
     "text": [
      "\n",
      "Executando apriori com min_support = 0.001 \n",
      "\n",
      "Encontrados 52 itemsets frequentes.\n"
     ]
    }
   ],
   "source": [
    "# frequent_itemsets é um DataFrame com os itemsets frequentes e seus suportes\n",
    "min_support_valor = 0.001\n",
    "print(f\"\\nExecutando apriori com min_support = {min_support_valor} \\n\")\n",
    "\n",
    "frequent_itemsets = apriori(df_encoded_pd, min_support=min_support_valor, use_colnames=True)\n",
    "print(f\"Encontrados {frequent_itemsets.shape[0]} itemsets frequentes.\")"
   ]
  },
  {
   "cell_type": "markdown",
   "metadata": {},
   "source": [
    "#### Gerando regras de associação: \n",
    "- Cria as regras (ex: {Produto A} => {Produto B}) a partir dos itemsets frequentes.\n",
    "- Usamos uma métrica ('lift', 'confidence', 'support') e um limiar mínimo ('min_threshold').\n",
    "- 'lift' > 1 sugere que os itens aparecem juntos mais do que o esperado por acaso.\n",
    "- 'confidence' mede a probabilidade de comprar B dado que A foi comprado.\n",
    "\n",
    "**Ajuste a métrica e o 'min_threshold' conforme necessário!**"
   ]
  },
  {
   "cell_type": "code",
   "execution_count": null,
   "metadata": {},
   "outputs": [
    {
     "name": "stdout",
     "output_type": "stream",
     "text": [
      "\n",
      "Gerando regras com lift >= 1...\n",
      "Regras geradas.\n",
      "Encontradas 0 regras.\n"
     ]
    }
   ],
   "source": [
    "metric = \"lift\" # Ou 'confidence'\n",
    "\n",
    "min_threshold_valor = 1 # Ajuste (para lift > 1, para confidence > 0.1, etc.)\n",
    "print(f\"\\nGerando regras com {metric} >= {min_threshold_valor}...\")\n",
    "\n",
    "rules = association_rules(frequent_itemsets, metric=metric, min_threshold=min_threshold_valor)\n",
    "print(\"Regras geradas.\")\n",
    "print(f\"Encontradas {rules.shape[0]} regras.\")"
   ]
  },
  {
   "cell_type": "code",
   "execution_count": 15,
   "metadata": {},
   "outputs": [
    {
     "name": "stdout",
     "output_type": "stream",
     "text": [
      "    support                            itemsets  length\n",
      "0  0.001327  (06edb72f1e0c64b14c5b79353f7abea3)       1\n",
      "1  0.001420  (0aabfb375647d9738ad0f7b4ea3653b1)       1\n",
      "2  0.001037  (0bcc3eeca39e1064258aa1e932269894)       1\n",
      "3  0.002716  (154e7e31ebfa092203795c972e5804a6)       1\n",
      "4  0.001078  (165f86fe8b799a708a20ee4ba125c289)       1\n",
      "     support                            itemsets  length\n",
      "47  0.001358  (e0cf79767c5b016251fe139915c59a26)       1\n",
      "48  0.002000  (e0d64dcfaa3b6db5c54ca298ae101d05)       1\n",
      "49  0.001596  (e53e557d5a159f5aa2c5e995dfdf244b)       1\n",
      "50  0.001202  (ec2d43cc59763ec91694573b31f1c29a)       1\n",
      "51  0.001544  (f1c7f353075ce59d8a6f3cf58f419c9c)       1\n",
      "\n",
      "Tamanho máximo de itemset encontrado: 1\n",
      "Número de itemsets com mais de 1 item: 0\n"
     ]
    }
   ],
   "source": [
    "# Adicionar uma coluna com o tamanho de cada itemset\n",
    "frequent_itemsets['length'] = frequent_itemsets['itemsets'].apply(lambda x: len(x))\n",
    "print(frequent_itemsets.head()) # Ver início\n",
    "print(frequent_itemsets.tail()) # Ver fim\n",
    "print(f\"\\nTamanho máximo de itemset encontrado: {frequent_itemsets['length'].max()}\")\n",
    "print(f\"Número de itemsets com mais de 1 item: {len(frequent_itemsets[frequent_itemsets['length'] >= 2])}\")"
   ]
  }
 ],
 "metadata": {
  "kernelspec": {
   "display_name": "Python 3",
   "language": "python",
   "name": "python3"
  },
  "language_info": {
   "codemirror_mode": {
    "name": "ipython",
    "version": 3
   },
   "file_extension": ".py",
   "mimetype": "text/x-python",
   "name": "python",
   "nbconvert_exporter": "python",
   "pygments_lexer": "ipython3",
   "version": "3.9.13"
  }
 },
 "nbformat": 4,
 "nbformat_minor": 2
}
