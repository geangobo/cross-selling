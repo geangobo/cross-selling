{
 "cells": [
  {
   "cell_type": "markdown",
   "metadata": {},
   "source": [
    "# 🧺 Análise de Cesta - Algoritmo FP Growth"
   ]
  },
  {
   "cell_type": "markdown",
   "metadata": {},
   "source": [
    "### 🔣 Dicionário de Dados"
   ]
  },
  {
   "cell_type": "markdown",
   "metadata": {},
   "source": [
    "**Legenda das Colunas da Tabela de Regras de Associação**\n",
    "\n",
    "* **`antecedents`**:\n",
    "    * O(s) código(s) do(s) produto(s) no lado esquerdo da regra (item X em \"SE compra X...\").\n",
    "    * Tipo: Texto (object) ou Número (int64), idealmente tratado como Texto.\n",
    "\n",
    "* **`consequents`**:\n",
    "    * O(s) código(s) do(s) produto(s) no lado direito da regra (item Y em \"...ENTÃO compra Y\").\n",
    "    * Tipo: Texto (object) ou Número (int64), idealmente tratado como Texto.\n",
    "\n",
    "* **`antecedent support`**:\n",
    "    * Frequência/proporção de transações que contêm o antecedente (X). `P(X)`.\n",
    "    * Tipo: Número Decimal (float64). *Formatar como Percentual (%) para visualização.*\n",
    "\n",
    "* **`consequent support`**:\n",
    "    * Frequência/proporção de transações que contêm o consequente (Y). `P(Y)`.\n",
    "    * Tipo: Número Decimal (float64). *Formatar como Percentual (%) para visualização.*\n",
    "\n",
    "* **`support`**:\n",
    "    * Frequência/proporção de transações que contêm *tanto* o antecedente (X) *quanto* o consequente (Y). `P(X e Y)`.\n",
    "    * Indica a popularidade geral da *combinação* X e Y.\n",
    "    * Tipo: Número Decimal (float64). *Formatar como Percentual (%) para visualização.*\n",
    "\n",
    "* **`confidence`**:\n",
    "    * Probabilidade de encontrar o consequente (Y) em uma transação, *dado que* ela já contém o antecedente (X). `P(Y | X)`.\n",
    "    * Mede a *confiabilidade* ou força preditiva da regra na direção X -> Y.\n",
    "    * Tipo: Número Decimal (float64). *Formatar como Percentual (%) para visualização.*\n",
    "\n",
    "* **`lift`**:\n",
    "    * Mede quantas vezes a presença de X *aumenta* a probabilidade de comprar Y, comparado à probabilidade normal de comprar Y. `Conf(X->Y) / Sup(Y)`.\n",
    "    * Lift > 1 indica associação positiva (interessante); Lift = 1 indica independência; Lift < 1 indica associação negativa.\n",
    "    * Tipo: Número Decimal (float64). *Formatar como Número Decimal (ex: 2 casas).*\n",
    "\n",
    "* **`representativity`**: (Atenção: Métrica menos padronizada, pode ter definições variadas)\n",
    "    * Tenta medir quão \"representativa\" é a regra ou a dependência encontrada, possivelmente comparando métricas observadas com esperadas.\n",
    "    * *Verificar a documentação da biblioteca usada ou a fórmula específica para interpretação precisa.*\n",
    "    * Tipo: Número Decimal (float64). *Formatar como Número Decimal.*\n",
    "\n",
    "* **`leverage`**:\n",
    "    * Mede a diferença entre a frequência observada de X e Y juntos e a frequência esperada se fossem independentes. `Sup(X,Y) - Sup(X)*Sup(Y)`.\n",
    "    * Valores > 0 indicam que aparecem juntos mais que o esperado.\n",
    "    * Tipo: Número Decimal (float64). *Formatar como Número Decimal.*\n",
    "\n",
    "* **`conviction`**:\n",
    "    * Mede o grau de \"implicação\" da regra. Alto valor sugere que o consequente depende fortemente do antecedente. `(1-Sup(Y))/(1-Conf(X->Y))`.\n",
    "    * Pode ser muito alto ou infinito.\n",
    "    * Tipo: Número Decimal (float64). *Formatar como Número Decimal.*\n",
    "\n",
    "* **`zhangs_metric`**:\n",
    "    * Métrica robusta (varia de -1 a +1) que mede a associação levando em conta suporte e confiança, sem ser afetada pela popularidade isolada.\n",
    "    * Valores próximos de +1 indicam forte associação positiva.\n",
    "    * Tipo: Número Decimal (float64). *Formatar como Número Decimal.*\n",
    "\n",
    "* **`jaccard`**:\n",
    "    * Coeficiente de Jaccard: similaridade entre os conjuntos de transações contendo X e Y. `Sup(X,Y) / (Sup(X)+Sup(Y)-Sup(X,Y))`.\n",
    "    * Valor entre 0 e 1 (pode ser visto como %).\n",
    "    * Tipo: Número Decimal (float64). *Formatar como Número Decimal ou Percentual (%).*\n",
    "\n",
    "* **`certainty`**:\n",
    "    * Mede o ganho de \"certeza\" proporcionado pela regra. `(Conf(X->Y) - Sup(Y)) / (1 - Sup(Y))`.\n",
    "    * Varia de -1 a 1.\n",
    "    * Tipo: Número Decimal (float64). *Formatar como Número Decimal.*\n",
    "\n",
    "* **`kulczynski`**:\n",
    "    * Média das confianças nas duas direções: `0.5 * (Conf(X->Y) + Conf(Y->X))`.\n",
    "    * Valor entre 0 e 1 (pode ser visto como %).\n",
    "    * Tipo: Número Decimal (float64). *Formatar como Número Decimal ou Percentual (%).*\n",
    "\n",
    "* **`Nomes_Antecedents`**:\n",
    "    * O(s) nome(s) legível(is) do(s) produto(s) antecedente(s).\n",
    "    * Tipo: Texto (object).\n",
    "\n",
    "* **`Nomes_Consequents`**:\n",
    "    * O(s) nome(s) legível(is) do(s) produto(s) consequente(s).\n",
    "    * Tipo: Texto (object).\n"
   ]
  },
  {
   "cell_type": "markdown",
   "metadata": {},
   "source": [
    "### 📚 Packages"
   ]
  },
  {
   "cell_type": "code",
   "execution_count": 1,
   "metadata": {},
   "outputs": [],
   "source": [
    "import polars as pl\n",
    "import pandas as pd\n",
    "from mlxtend.preprocessing import TransactionEncoder\n",
    "from mlxtend.frequent_patterns import association_rules, fpgrowth\n",
    "import matplotlib.pyplot as plt\n",
    "import seaborn as sns\n",
    "import networkx as nx\n",
    "import matplotlib.ticker as mtick\n",
    "import warnings \n",
    "import time     "
   ]
  },
  {
   "cell_type": "markdown",
   "metadata": {},
   "source": [
    "### 🎲 Dataset"
   ]
  },
  {
   "cell_type": "markdown",
   "metadata": {},
   "source": [
    "- Dados extraídos do Kaggle - [Brazilian E-Commerce Public Dataset by Olist](https://www.kaggle.com/datasets/olistbr/brazilian-ecommerce)"
   ]
  },
  {
   "cell_type": "code",
   "execution_count": 2,
   "metadata": {},
   "outputs": [],
   "source": [
    "orders = pl.read_csv(\"../data/olist_orders_dataset.csv\")\n",
    "order_items = pl.read_csv(\"../data/olist_order_items_dataset.csv\")\n",
    "products = pl.read_csv(\"../data/olist_products_dataset.csv\")"
   ]
  },
  {
   "cell_type": "code",
   "execution_count": 4,
   "metadata": {},
   "outputs": [
    {
     "data": {
      "text/plain": [
       "OrderedDict([('order_id', String),\n",
       "             ('order_item_id', Int64),\n",
       "             ('product_id', String),\n",
       "             ('seller_id', String),\n",
       "             ('shipping_limit_date', String),\n",
       "             ('price', Float64),\n",
       "             ('freight_value', Float64)])"
      ]
     },
     "execution_count": 4,
     "metadata": {},
     "output_type": "execute_result"
    }
   ],
   "source": [
    "order_items.schema"
   ]
  },
  {
   "cell_type": "code",
   "execution_count": 5,
   "metadata": {},
   "outputs": [
    {
     "data": {
      "text/plain": [
       "OrderedDict([('order_id', String),\n",
       "             ('customer_id', String),\n",
       "             ('order_status', String),\n",
       "             ('order_purchase_timestamp', String),\n",
       "             ('order_approved_at', String),\n",
       "             ('order_delivered_carrier_date', String),\n",
       "             ('order_delivered_customer_date', String),\n",
       "             ('order_estimated_delivery_date', String)])"
      ]
     },
     "execution_count": 5,
     "metadata": {},
     "output_type": "execute_result"
    }
   ],
   "source": [
    "orders.schema"
   ]
  },
  {
   "cell_type": "code",
   "execution_count": 6,
   "metadata": {},
   "outputs": [
    {
     "data": {
      "text/plain": [
       "OrderedDict([('product_id', String),\n",
       "             ('product_category_name', String),\n",
       "             ('product_name_lenght', Int64),\n",
       "             ('product_description_lenght', Int64),\n",
       "             ('product_photos_qty', Int64),\n",
       "             ('product_weight_g', Int64),\n",
       "             ('product_length_cm', Int64),\n",
       "             ('product_height_cm', Int64),\n",
       "             ('product_width_cm', Int64)])"
      ]
     },
     "execution_count": 6,
     "metadata": {},
     "output_type": "execute_result"
    }
   ],
   "source": [
    "products.schema"
   ]
  },
  {
   "cell_type": "markdown",
   "metadata": {},
   "source": [
    "### 🧩 E.D.A"
   ]
  },
  {
   "cell_type": "code",
   "execution_count": 3,
   "metadata": {},
   "outputs": [
    {
     "data": {
      "text/html": [
       "<div><style>\n",
       ".dataframe > thead > tr,\n",
       ".dataframe > tbody > tr {\n",
       "  text-align: right;\n",
       "  white-space: pre-wrap;\n",
       "}\n",
       "</style>\n",
       "<small>shape: (5, 8)</small><table border=\"1\" class=\"dataframe\"><thead><tr><th>order_id</th><th>customer_id</th><th>order_status</th><th>order_purchase_timestamp</th><th>order_approved_at</th><th>order_delivered_carrier_date</th><th>order_delivered_customer_date</th><th>order_estimated_delivery_date</th></tr><tr><td>str</td><td>str</td><td>str</td><td>str</td><td>str</td><td>str</td><td>str</td><td>str</td></tr></thead><tbody><tr><td>&quot;e481f51cbdc546…</td><td>&quot;9ef432eb625129…</td><td>&quot;delivered&quot;</td><td>&quot;2017-10-02 10:…</td><td>&quot;2017-10-02 11:…</td><td>&quot;2017-10-04 19:…</td><td>&quot;2017-10-10 21:…</td><td>&quot;2017-10-18 00:…</td></tr><tr><td>&quot;53cdb2fc8bc7dc…</td><td>&quot;b0830fb4747a6c…</td><td>&quot;delivered&quot;</td><td>&quot;2018-07-24 20:…</td><td>&quot;2018-07-26 03:…</td><td>&quot;2018-07-26 14:…</td><td>&quot;2018-08-07 15:…</td><td>&quot;2018-08-13 00:…</td></tr><tr><td>&quot;47770eb9100c2d…</td><td>&quot;41ce2a54c0b03b…</td><td>&quot;delivered&quot;</td><td>&quot;2018-08-08 08:…</td><td>&quot;2018-08-08 08:…</td><td>&quot;2018-08-08 13:…</td><td>&quot;2018-08-17 18:…</td><td>&quot;2018-09-04 00:…</td></tr><tr><td>&quot;949d5b44dbf5de…</td><td>&quot;f88197465ea792…</td><td>&quot;delivered&quot;</td><td>&quot;2017-11-18 19:…</td><td>&quot;2017-11-18 19:…</td><td>&quot;2017-11-22 13:…</td><td>&quot;2017-12-02 00:…</td><td>&quot;2017-12-15 00:…</td></tr><tr><td>&quot;ad21c59c0840e6…</td><td>&quot;8ab97904e6daea…</td><td>&quot;delivered&quot;</td><td>&quot;2018-02-13 21:…</td><td>&quot;2018-02-13 22:…</td><td>&quot;2018-02-14 19:…</td><td>&quot;2018-02-16 18:…</td><td>&quot;2018-02-26 00:…</td></tr></tbody></table></div>"
      ],
      "text/plain": [
       "shape: (5, 8)\n",
       "┌────────────┬────────────┬────────────┬───────────┬───────────┬───────────┬───────────┬───────────┐\n",
       "│ order_id   ┆ customer_i ┆ order_stat ┆ order_pur ┆ order_app ┆ order_del ┆ order_del ┆ order_est │\n",
       "│ ---        ┆ d          ┆ us         ┆ chase_tim ┆ roved_at  ┆ ivered_ca ┆ ivered_cu ┆ imated_de │\n",
       "│ str        ┆ ---        ┆ ---        ┆ estamp    ┆ ---       ┆ rrier_dat ┆ stomer_da ┆ livery_da │\n",
       "│            ┆ str        ┆ str        ┆ ---       ┆ str       ┆ e         ┆ te        ┆ te        │\n",
       "│            ┆            ┆            ┆ str       ┆           ┆ ---       ┆ ---       ┆ ---       │\n",
       "│            ┆            ┆            ┆           ┆           ┆ str       ┆ str       ┆ str       │\n",
       "╞════════════╪════════════╪════════════╪═══════════╪═══════════╪═══════════╪═══════════╪═══════════╡\n",
       "│ e481f51cbd ┆ 9ef432eb62 ┆ delivered  ┆ 2017-10-0 ┆ 2017-10-0 ┆ 2017-10-0 ┆ 2017-10-1 ┆ 2017-10-1 │\n",
       "│ c54678b7cc ┆ 51297304e7 ┆            ┆ 2         ┆ 2         ┆ 4         ┆ 0         ┆ 8         │\n",
       "│ 49136f2d6a ┆ 6186b10a92 ┆            ┆ 10:56:33  ┆ 11:07:15  ┆ 19:55:00  ┆ 21:25:13  ┆ 00:00:00  │\n",
       "│ f7         ┆ 8d         ┆            ┆           ┆           ┆           ┆           ┆           │\n",
       "│ 53cdb2fc8b ┆ b0830fb474 ┆ delivered  ┆ 2018-07-2 ┆ 2018-07-2 ┆ 2018-07-2 ┆ 2018-08-0 ┆ 2018-08-1 │\n",
       "│ c7dce0b674 ┆ 7a6c6d20de ┆            ┆ 4         ┆ 6         ┆ 6         ┆ 7         ┆ 3         │\n",
       "│ 1e21502734 ┆ a0b8c802d7 ┆            ┆ 20:41:37  ┆ 03:24:27  ┆ 14:31:00  ┆ 15:27:45  ┆ 00:00:00  │\n",
       "│ 51         ┆ ef         ┆            ┆           ┆           ┆           ┆           ┆           │\n",
       "│ 47770eb910 ┆ 41ce2a54c0 ┆ delivered  ┆ 2018-08-0 ┆ 2018-08-0 ┆ 2018-08-0 ┆ 2018-08-1 ┆ 2018-09-0 │\n",
       "│ 0c2d0c4494 ┆ b03bf3443c ┆            ┆ 8         ┆ 8         ┆ 8         ┆ 7         ┆ 4         │\n",
       "│ 6d9cf07ec6 ┆ 3d931a3670 ┆            ┆ 08:38:49  ┆ 08:55:23  ┆ 13:50:00  ┆ 18:06:29  ┆ 00:00:00  │\n",
       "│ 5d         ┆ 89         ┆            ┆           ┆           ┆           ┆           ┆           │\n",
       "│ 949d5b44db ┆ f88197465e ┆ delivered  ┆ 2017-11-1 ┆ 2017-11-1 ┆ 2017-11-2 ┆ 2017-12-0 ┆ 2017-12-1 │\n",
       "│ f5de918fe9 ┆ a7920adcdb ┆            ┆ 8         ┆ 8         ┆ 2         ┆ 2         ┆ 5         │\n",
       "│ c16f97b45f ┆ ec7375364d ┆            ┆ 19:28:06  ┆ 19:45:59  ┆ 13:39:59  ┆ 00:28:42  ┆ 00:00:00  │\n",
       "│ 8a         ┆ 82         ┆            ┆           ┆           ┆           ┆           ┆           │\n",
       "│ ad21c59c08 ┆ 8ab97904e6 ┆ delivered  ┆ 2018-02-1 ┆ 2018-02-1 ┆ 2018-02-1 ┆ 2018-02-1 ┆ 2018-02-2 │\n",
       "│ 40e6cb83a9 ┆ daea8866db ┆            ┆ 3         ┆ 3         ┆ 4         ┆ 6         ┆ 6         │\n",
       "│ ceb5573f81 ┆ dbc4fb7aad ┆            ┆ 21:18:39  ┆ 22:20:29  ┆ 19:46:34  ┆ 18:17:02  ┆ 00:00:00  │\n",
       "│ 59         ┆ 2c         ┆            ┆           ┆           ┆           ┆           ┆           │\n",
       "└────────────┴────────────┴────────────┴───────────┴───────────┴───────────┴───────────┴───────────┘"
      ]
     },
     "execution_count": 3,
     "metadata": {},
     "output_type": "execute_result"
    }
   ],
   "source": [
    "orders.head()"
   ]
  },
  {
   "cell_type": "code",
   "execution_count": 4,
   "metadata": {},
   "outputs": [
    {
     "data": {
      "text/html": [
       "<div><style>\n",
       ".dataframe > thead > tr,\n",
       ".dataframe > tbody > tr {\n",
       "  text-align: right;\n",
       "  white-space: pre-wrap;\n",
       "}\n",
       "</style>\n",
       "<small>shape: (5, 7)</small><table border=\"1\" class=\"dataframe\"><thead><tr><th>order_id</th><th>order_item_id</th><th>product_id</th><th>seller_id</th><th>shipping_limit_date</th><th>price</th><th>freight_value</th></tr><tr><td>str</td><td>i64</td><td>str</td><td>str</td><td>str</td><td>f64</td><td>f64</td></tr></thead><tbody><tr><td>&quot;00010242fe8c5a…</td><td>1</td><td>&quot;4244733e06e7ec…</td><td>&quot;48436dade18ac8…</td><td>&quot;2017-09-19 09:…</td><td>58.9</td><td>13.29</td></tr><tr><td>&quot;00018f77f2f032…</td><td>1</td><td>&quot;e5f2d52b802189…</td><td>&quot;dd7ddc04e1b6c2…</td><td>&quot;2017-05-03 11:…</td><td>239.9</td><td>19.93</td></tr><tr><td>&quot;000229ec398224…</td><td>1</td><td>&quot;c777355d18b72b…</td><td>&quot;5b51032eddd242…</td><td>&quot;2018-01-18 14:…</td><td>199.0</td><td>17.87</td></tr><tr><td>&quot;00024acbcdf0a6…</td><td>1</td><td>&quot;7634da152a4610…</td><td>&quot;9d7a1d34a50524…</td><td>&quot;2018-08-15 10:…</td><td>12.99</td><td>12.79</td></tr><tr><td>&quot;00042b26cf59d7…</td><td>1</td><td>&quot;ac6c3623068f30…</td><td>&quot;df560393f3a51e…</td><td>&quot;2017-02-13 13:…</td><td>199.9</td><td>18.14</td></tr></tbody></table></div>"
      ],
      "text/plain": [
       "shape: (5, 7)\n",
       "┌───────────────┬──────────────┬──────────────┬──────────────┬──────────────┬───────┬──────────────┐\n",
       "│ order_id      ┆ order_item_i ┆ product_id   ┆ seller_id    ┆ shipping_lim ┆ price ┆ freight_valu │\n",
       "│ ---           ┆ d            ┆ ---          ┆ ---          ┆ it_date      ┆ ---   ┆ e            │\n",
       "│ str           ┆ ---          ┆ str          ┆ str          ┆ ---          ┆ f64   ┆ ---          │\n",
       "│               ┆ i64          ┆              ┆              ┆ str          ┆       ┆ f64          │\n",
       "╞═══════════════╪══════════════╪══════════════╪══════════════╪══════════════╪═══════╪══════════════╡\n",
       "│ 00010242fe8c5 ┆ 1            ┆ 4244733e06e7 ┆ 48436dade18a ┆ 2017-09-19   ┆ 58.9  ┆ 13.29        │\n",
       "│ a6d1ba2dd792c ┆              ┆ ecb4970a6e26 ┆ c8b2bce089ec ┆ 09:45:35     ┆       ┆              │\n",
       "│ b16214        ┆              ┆ 83c13e61     ┆ 2a041202     ┆              ┆       ┆              │\n",
       "│ 00018f77f2f03 ┆ 1            ┆ e5f2d52b8021 ┆ dd7ddc04e1b6 ┆ 2017-05-03   ┆ 239.9 ┆ 19.93        │\n",
       "│ 20c557190d7a1 ┆              ┆ 89ee658865ca ┆ c2c614352b38 ┆ 11:05:13     ┆       ┆              │\n",
       "│ 44bdd3        ┆              ┆ 93d83a8f     ┆ 3efe2d36     ┆              ┆       ┆              │\n",
       "│ 000229ec39822 ┆ 1            ┆ c777355d18b7 ┆ 5b51032eddd2 ┆ 2018-01-18   ┆ 199.0 ┆ 17.87        │\n",
       "│ 4ef6ca0657da4 ┆              ┆ 2b67abbeef9d ┆ 42adc84c38ac ┆ 14:48:30     ┆       ┆              │\n",
       "│ fc703e        ┆              ┆ f44fd0fd     ┆ ab88f23d     ┆              ┆       ┆              │\n",
       "│ 00024acbcdf0a ┆ 1            ┆ 7634da152a46 ┆ 9d7a1d34a505 ┆ 2018-08-15   ┆ 12.99 ┆ 12.79        │\n",
       "│ 6daa1e931b038 ┆              ┆ 10f1595efa32 ┆ 240900642527 ┆ 10:10:18     ┆       ┆              │\n",
       "│ 114c75        ┆              ┆ f14722fc     ┆ 5ba1c2b4     ┆              ┆       ┆              │\n",
       "│ 00042b26cf59d ┆ 1            ┆ ac6c3623068f ┆ df560393f3a5 ┆ 2017-02-13   ┆ 199.9 ┆ 18.14        │\n",
       "│ 7ce69dfabb4e5 ┆              ┆ 30de03045865 ┆ 1e74553ab940 ┆ 13:57:51     ┆       ┆              │\n",
       "│ 5b4fd9        ┆              ┆ e4e10089     ┆ 04ba5c87     ┆              ┆       ┆              │\n",
       "└───────────────┴──────────────┴──────────────┴──────────────┴──────────────┴───────┴──────────────┘"
      ]
     },
     "execution_count": 4,
     "metadata": {},
     "output_type": "execute_result"
    }
   ],
   "source": [
    "order_items.head()"
   ]
  },
  {
   "cell_type": "code",
   "execution_count": 5,
   "metadata": {},
   "outputs": [
    {
     "data": {
      "text/html": [
       "<div><style>\n",
       ".dataframe > thead > tr,\n",
       ".dataframe > tbody > tr {\n",
       "  text-align: right;\n",
       "  white-space: pre-wrap;\n",
       "}\n",
       "</style>\n",
       "<small>shape: (5, 9)</small><table border=\"1\" class=\"dataframe\"><thead><tr><th>product_id</th><th>product_category_name</th><th>product_name_lenght</th><th>product_description_lenght</th><th>product_photos_qty</th><th>product_weight_g</th><th>product_length_cm</th><th>product_height_cm</th><th>product_width_cm</th></tr><tr><td>str</td><td>str</td><td>i64</td><td>i64</td><td>i64</td><td>i64</td><td>i64</td><td>i64</td><td>i64</td></tr></thead><tbody><tr><td>&quot;1e9e8ef04dbcff…</td><td>&quot;perfumaria&quot;</td><td>40</td><td>287</td><td>1</td><td>225</td><td>16</td><td>10</td><td>14</td></tr><tr><td>&quot;3aa071139cb16b…</td><td>&quot;artes&quot;</td><td>44</td><td>276</td><td>1</td><td>1000</td><td>30</td><td>18</td><td>20</td></tr><tr><td>&quot;96bd76ec881037…</td><td>&quot;esporte_lazer&quot;</td><td>46</td><td>250</td><td>1</td><td>154</td><td>18</td><td>9</td><td>15</td></tr><tr><td>&quot;cef67bcfe19066…</td><td>&quot;bebes&quot;</td><td>27</td><td>261</td><td>1</td><td>371</td><td>26</td><td>4</td><td>26</td></tr><tr><td>&quot;9dc1a7de274444…</td><td>&quot;utilidades_dom…</td><td>37</td><td>402</td><td>4</td><td>625</td><td>20</td><td>17</td><td>13</td></tr></tbody></table></div>"
      ],
      "text/plain": [
       "shape: (5, 9)\n",
       "┌───────────┬───────────┬───────────┬───────────┬───┬───────────┬───────────┬───────────┬──────────┐\n",
       "│ product_i ┆ product_c ┆ product_n ┆ product_d ┆ … ┆ product_w ┆ product_l ┆ product_h ┆ product_ │\n",
       "│ d         ┆ ategory_n ┆ ame_lengh ┆ escriptio ┆   ┆ eight_g   ┆ ength_cm  ┆ eight_cm  ┆ width_cm │\n",
       "│ ---       ┆ ame       ┆ t         ┆ n_lenght  ┆   ┆ ---       ┆ ---       ┆ ---       ┆ ---      │\n",
       "│ str       ┆ ---       ┆ ---       ┆ ---       ┆   ┆ i64       ┆ i64       ┆ i64       ┆ i64      │\n",
       "│           ┆ str       ┆ i64       ┆ i64       ┆   ┆           ┆           ┆           ┆          │\n",
       "╞═══════════╪═══════════╪═══════════╪═══════════╪═══╪═══════════╪═══════════╪═══════════╪══════════╡\n",
       "│ 1e9e8ef04 ┆ perfumari ┆ 40        ┆ 287       ┆ … ┆ 225       ┆ 16        ┆ 10        ┆ 14       │\n",
       "│ dbcff4541 ┆ a         ┆           ┆           ┆   ┆           ┆           ┆           ┆          │\n",
       "│ ed26657ea ┆           ┆           ┆           ┆   ┆           ┆           ┆           ┆          │\n",
       "│ 517e5     ┆           ┆           ┆           ┆   ┆           ┆           ┆           ┆          │\n",
       "│ 3aa071139 ┆ artes     ┆ 44        ┆ 276       ┆ … ┆ 1000      ┆ 30        ┆ 18        ┆ 20       │\n",
       "│ cb16b67ca ┆           ┆           ┆           ┆   ┆           ┆           ┆           ┆          │\n",
       "│ 9e5dea641 ┆           ┆           ┆           ┆   ┆           ┆           ┆           ┆          │\n",
       "│ aaa2f     ┆           ┆           ┆           ┆   ┆           ┆           ┆           ┆          │\n",
       "│ 96bd76ec8 ┆ esporte_l ┆ 46        ┆ 250       ┆ … ┆ 154       ┆ 18        ┆ 9         ┆ 15       │\n",
       "│ 810374ed1 ┆ azer      ┆           ┆           ┆   ┆           ┆           ┆           ┆          │\n",
       "│ b65e29197 ┆           ┆           ┆           ┆   ┆           ┆           ┆           ┆          │\n",
       "│ 5717f     ┆           ┆           ┆           ┆   ┆           ┆           ┆           ┆          │\n",
       "│ cef67bcfe ┆ bebes     ┆ 27        ┆ 261       ┆ … ┆ 371       ┆ 26        ┆ 4         ┆ 26       │\n",
       "│ 19066a932 ┆           ┆           ┆           ┆   ┆           ┆           ┆           ┆          │\n",
       "│ b7673e239 ┆           ┆           ┆           ┆   ┆           ┆           ┆           ┆          │\n",
       "│ eb23d     ┆           ┆           ┆           ┆   ┆           ┆           ┆           ┆          │\n",
       "│ 9dc1a7de2 ┆ utilidade ┆ 37        ┆ 402       ┆ … ┆ 625       ┆ 20        ┆ 17        ┆ 13       │\n",
       "│ 74444849c ┆ s_domesti ┆           ┆           ┆   ┆           ┆           ┆           ┆          │\n",
       "│ 219cff195 ┆ cas       ┆           ┆           ┆   ┆           ┆           ┆           ┆          │\n",
       "│ d0b71     ┆           ┆           ┆           ┆   ┆           ┆           ┆           ┆          │\n",
       "└───────────┴───────────┴───────────┴───────────┴───┴───────────┴───────────┴───────────┴──────────┘"
      ]
     },
     "execution_count": 5,
     "metadata": {},
     "output_type": "execute_result"
    }
   ],
   "source": [
    "products.head()"
   ]
  },
  {
   "cell_type": "markdown",
   "metadata": {},
   "source": [
    "- Shape de cada DF"
   ]
  },
  {
   "cell_type": "code",
   "execution_count": 6,
   "metadata": {},
   "outputs": [
    {
     "name": "stdout",
     "output_type": "stream",
     "text": [
      "\n",
      " Ordem: (99441, 8)\n",
      " Ordem Produtos: (99441, 8) \n",
      " Produtos: (99441, 8)\n"
     ]
    }
   ],
   "source": [
    "print(f\"\\n Ordem: {orders.shape}\\n Ordem Produtos: {orders.shape} \\n Produtos: {orders.shape}\")"
   ]
  },
  {
   "cell_type": "markdown",
   "metadata": {},
   "source": [
    "- Verificando valores NaN"
   ]
  },
  {
   "cell_type": "code",
   "execution_count": null,
   "metadata": {},
   "outputs": [
    {
     "name": "stdout",
     "output_type": "stream",
     "text": [
      "Iniciando verificação geral de valores nulos...\n",
      "\n",
      "--- Verificando Nulos em 'orders' ---\n",
      "Colunas com valores nulos e suas contagens:\n",
      "- order_approved_at: 160\n",
      "- order_delivered_carrier_date: 1783\n",
      "- order_delivered_customer_date: 2965\n",
      "\n",
      "Total de valores nulos no DataFrame 'orders': 4908\n",
      "-----------------------------------------\n",
      "\n",
      "--- Verificando Nulos em 'order_items' ---\n",
      "Colunas com valores nulos e suas contagens:\n",
      "Nenhuma coluna com valores nulos encontrada.\n",
      "\n",
      "Total de valores nulos no DataFrame 'order_items': 0\n",
      "----------------------------------------------\n",
      "\n",
      "--- Verificando Nulos em 'products' ---\n",
      "Colunas com valores nulos e suas contagens:\n",
      "- product_category_name: 610\n",
      "- product_name_lenght: 610\n",
      "- product_description_lenght: 610\n",
      "- product_photos_qty: 610\n",
      "- product_weight_g: 2\n",
      "- product_length_cm: 2\n",
      "- product_height_cm: 2\n",
      "- product_width_cm: 2\n",
      "\n",
      "Total de valores nulos no DataFrame 'products': 2448\n",
      "-------------------------------------------\n",
      "\n",
      "Verificação de nulos concluída.\n"
     ]
    }
   ],
   "source": [
    "def reportar_nulos_polars(df: pl.DataFrame, nome_df: str):\n",
    "    \"\"\"\n",
    "    Verifica valores nulos em um DataFrame Polars e reporta as colunas com nulos.\n",
    "    USA .unpivot() e calcula o total corretamente.\n",
    "\n",
    "    Args:\n",
    "        df: O DataFrame Polars a ser verificado.\n",
    "        nome_df: Uma string com o nome do DataFrame para identificação na saída.\n",
    "    \"\"\"\n",
    "    print(f\"\\n--- Verificando Nulos em '{nome_df}' ---\")\n",
    "\n",
    "    # 1. Contar nulos em cada coluna\n",
    "    df_null_counts = df.null_count()\n",
    "\n",
    "    # 2. Transformar para formato longo e filtrar colunas com nulos > 0\n",
    "    df_null_long = df_null_counts.unpivot() # Colunas: 'variable', 'value'\n",
    "    df_null_filtered = df_null_long.filter(pl.col(\"value\") > 0)\n",
    "\n",
    "    # 3. Imprimir as colunas filtradas\n",
    "    print(\"Colunas com valores nulos e suas contagens:\")\n",
    "    if df_null_filtered.height == 0:\n",
    "        print(\"Nenhuma coluna com valores nulos encontrada.\")\n",
    "    else:\n",
    "        for row_dict in df_null_filtered.iter_rows(named=True):\n",
    "            coluna = row_dict['variable']\n",
    "            contagem = row_dict['value']\n",
    "            print(f\"- {coluna}: {contagem}\")\n",
    "\n",
    "    # --- CORREÇÃO AQUI ---\n",
    "    # 4. Calcular e imprimir o total de nulos\n",
    "    # Soma a coluna 'value' do DataFrame longo (df_null_long)\n",
    "    total_nulos = df_null_long['value'].sum()\n",
    "    # --- FIM DA CORREÇÃO ---\n",
    "\n",
    "    print(f\"\\nTotal de valores nulos no DataFrame '{nome_df}': {total_nulos}\")\n",
    "    print(\"-\" * (len(f\"--- Verificando Nulos em '{nome_df}' ---\") + 4))\n",
    "\n",
    "\n",
    "# --- Chamar a função para cada DataFrame (como antes) ---\n",
    "print(\"Iniciando verificação geral de valores nulos...\")\n",
    "\n",
    "dataframes_para_verificar = {\n",
    "    \"orders\": orders,\n",
    "    \"order_items\": order_items,\n",
    "    \"products\": products\n",
    "}\n",
    "\n",
    "for nome, df_atual in dataframes_para_verificar.items():\n",
    "    reportar_nulos_polars(df_atual, nome)\n"
   ]
  },
  {
   "cell_type": "markdown",
   "metadata": {},
   "source": [
    "- Garantindo que os valores order_id e product_id apareçam apenas uma vez"
   ]
  },
  {
   "cell_type": "code",
   "execution_count": null,
   "metadata": {},
   "outputs": [
    {
     "name": "stdout",
     "output_type": "stream",
     "text": [
      "--- Iniciando Junção e Preparação Inicial (Polars) ---\n",
      "Filtrando por status: ['delivered']\n",
      "Passo 1: Juntando orders e order_items...\n",
      "Shape após join: (112650, 8)\n",
      "Passo 2: Filtrando por status do pedido...\n",
      "Shape após filtro de status: (110197, 8)\n",
      "Passo 3: Selecionando order_id e product_id...\n",
      "Passo 4: Removendo produtos duplicados dentro do mesmo pedido...\n",
      "Shape final de 'basket_items_unique' (Polars): (100196, 2)\n",
      "\n",
      "--- Preparação Inicial Concluída ---\n",
      "DataFrame 'basket_items_unique' (Polars) pronto para a próxima etapa (agrupamento em lista).\n"
     ]
    }
   ],
   "source": [
    "# Parâmetros (definir ou pegar de célula anterior)\n",
    "STATUS_VALIDOS = ['delivered'] # Define quais status de pedido considerar\n",
    "\n",
    "print(\"--- Iniciando Junção e Preparação Inicial (Polars) ---\")\n",
    "print(f\"Filtrando por status: {STATUS_VALIDOS}\")\n",
    "\n",
    "# Assumindo que 'orders' e 'order_items' já estão carregados das células anteriores\n",
    "try:\n",
    "    # 1. Join orders e order_items (Selecionando só o necessário de 'orders')\n",
    "    print(\"Passo 1: Juntando orders e order_items...\")\n",
    "    order_details = order_items.join(\n",
    "        orders.select(['order_id', 'order_status']), # Seleciona só colunas necessárias de 'orders'\n",
    "        on='order_id',\n",
    "        how='inner'\n",
    "    )\n",
    "    print(f\"Shape após join: {order_details.shape}\")\n",
    "\n",
    "    # 2. Filtrar por Status\n",
    "    print(\"Passo 2: Filtrando por status do pedido...\")\n",
    "    order_details_filtered = order_details.filter(pl.col('order_status').is_in(STATUS_VALIDOS))\n",
    "    print(f\"Shape após filtro de status: {order_details_filtered.shape}\")\n",
    "\n",
    "    # 3. Selecionar Colunas Chave\n",
    "    print(\"Passo 3: Selecionando order_id e product_id...\")\n",
    "    baskets_raw = order_details_filtered.select(['order_id', 'product_id'])\n",
    "\n",
    "    # 4. Remover Duplicatas (mesmo produto no mesmo pedido)\n",
    "    print(\"Passo 4: Removendo produtos duplicados dentro do mesmo pedido...\")\n",
    "    # Garantir que product_id seja string antes do unique, caso não tenha sido feito antes\n",
    "    baskets_unique = baskets_raw.with_columns(pl.col('product_id').cast(pl.Utf8)).unique(subset=['order_id', 'product_id'], keep='first')\n",
    "    # (Nome da variável ajustado para 'baskets_unique' para clareza, mas pode manter 'basket_items_unique')\n",
    "    basket_items_unique = baskets_unique # Mantendo nome original para consistência com o resto do fluxo\n",
    "    print(f\"Shape final de 'basket_items_unique' (Polars): {basket_items_unique.shape}\")\n",
    "\n",
    "    print(\"\\n--- Preparação Inicial Concluída ---\")\n",
    "    print(\"DataFrame 'basket_items_unique' (Polars) pronto para a próxima etapa (agrupamento em lista).\")\n",
    "    # print(basket_items_unique.head()) # Descomente para verificar\n",
    "\n",
    "except Exception as e:\n",
    "    print(f\"Erro durante a preparação inicial: {e}\")\n",
    "    basket_items_unique = None # Indicar erro ainda é útil\n",
    "\n",
    "# Verificar se a etapa funcionou antes de prosseguir para a próxima célula\n",
    "if basket_items_unique is None or basket_items_unique.height == 0:\n",
    "    print(\"\\nAviso: A preparação inicial falhou ou não resultou em dados.\")\n",
    "    print(\"Verifique os filtros, joins e a execução das células anteriores.\")"
   ]
  },
  {
   "cell_type": "code",
   "execution_count": 18,
   "metadata": {},
   "outputs": [
    {
     "data": {
      "text/plain": [
       "polars.dataframe.frame.DataFrame"
      ]
     },
     "execution_count": 18,
     "metadata": {},
     "output_type": "execute_result"
    }
   ],
   "source": [
    "type(basket_items_unique)"
   ]
  },
  {
   "attachments": {
    "1_tUaLxgF-dWA7j-BtRwtDkg.png": {
     "image/png": "[encoded data removed]"
    }
   },
   "cell_type": "markdown",
   "metadata": {},
   "source": [
    "### Agrupando os valores por transação - Criando uma lista de listas: \n",
    "- Não vamos usar Polars nessa etapa devido o TransactionEncoder não ser compatível com Polars. \n",
    "\n",
    "![1_tUaLxgF-dWA7j-BtRwtDkg.png](attachment:1_tUaLxgF-dWA7j-BtRwtDkg.png)"
   ]
  },
  {
   "cell_type": "code",
   "execution_count": 11,
   "metadata": {},
   "outputs": [
    {
     "name": "stdout",
     "output_type": "stream",
     "text": [
      "\n",
      "--- Iniciando Passo 6: Agrupamento em Lista (Pandas Workaround) ---\n",
      "Convertendo para Pandas...\n",
      "Convertido para Pandas. Shape: (100196, 2)\n",
      "Agrupando produtos por pedido (Pandas)...\n",
      "Agrupamento com Pandas concluído. Número de cestas (listas): 96478\n",
      "\n",
      "Variável 'transactions_list' (Lista de Listas Python) criada com sucesso.\n",
      "Pronta para a próxima etapa (TransactionEncoder).\n"
     ]
    }
   ],
   "source": [
    "print(\"\\n--- Iniciando Passo 6: Agrupamento em Lista (Pandas Workaround) ---\")\n",
    "transactions_list = None # Inicializar variável\n",
    "\n",
    "# Tenta executar a conversão e agrupamento, assumindo que 'basket_items_unique' existe\n",
    "try:\n",
    "    # 6.1 Converter o DataFrame Polars 'basket_items_unique' para Pandas\n",
    "    print(\"Convertendo para Pandas...\")\n",
    "    basket_items_unique_pd = basket_items_unique.to_pandas()\n",
    "    print(f\"Convertido para Pandas. Shape: {basket_items_unique_pd.shape}\")\n",
    "\n",
    "    # 6.2 Aplicar o groupby do Pandas para obter a lista de listas\n",
    "    print(\"Agrupando produtos por pedido (Pandas)...\")\n",
    "    transactions_list = basket_items_unique_pd.groupby('order_id')['product_id'].apply(list).tolist()\n",
    "    print(f\"Agrupamento com Pandas concluído. Número de cestas (listas): {len(transactions_list)}\")\n",
    "    # Descomente a linha abaixo para ver as 3 primeiras cestas\n",
    "    # print(transactions_list[:3])\n",
    "\n",
    "except NameError:\n",
    "    # Captura o erro se 'basket_items_unique' não existir\n",
    "    print(\"ERRO: A variável 'basket_items_unique' não foi encontrada.\")\n",
    "    print(\"Certifique-se de que a célula anterior que a cria foi executada com sucesso.\")\n",
    "    transactions_list = None # Define como None\n",
    "\n",
    "except Exception as e:\n",
    "    # Captura outros erros durante a conversão ou agrupamento\n",
    "    print(f\"Erro durante o Passo 6 (Conversão/Agrupamento Pandas): {e}\")\n",
    "    transactions_list = None # Define como None\n",
    "\n",
    "# Verificar se a etapa produziu uma lista válida antes de prosseguir\n",
    "if transactions_list is None or len(transactions_list) == 0:\n",
    "    print(\"\\nAviso: Agrupamento falhou ou não resultou em transações. Verifique a execução e os dados.\")\n",
    "else:\n",
    "    print(\"\\nVariável 'transactions_list' (Lista de Listas Python) criada com sucesso.\")\n",
    "    print(\"Pronta para a próxima etapa (TransactionEncoder).\")"
   ]
  },
  {
   "cell_type": "code",
   "execution_count": 17,
   "metadata": {},
   "outputs": [
    {
     "data": {
      "text/plain": [
       "list"
      ]
     },
     "execution_count": 17,
     "metadata": {},
     "output_type": "execute_result"
    }
   ],
   "source": [
    "type(transactions_list)"
   ]
  },
  {
   "cell_type": "markdown",
   "metadata": {},
   "source": [
    "### TransactionEncoder - Transformando a lista no formato matriz \"one-hot-encoded\"\n",
    "- Com a lista de listas de produtos por pedido criada, iniciamos esse próximo passo; \n",
    "- As funções do MLxtend (no caso a fpgrowth), espera os dados no formato elencado no título. "
   ]
  },
  {
   "cell_type": "code",
   "execution_count": 19,
   "metadata": {},
   "outputs": [
    {
     "name": "stdout",
     "output_type": "stream",
     "text": [
      "Instanciando e aplicando TransactionEncoder...\n",
      "Matriz booleana criada.\n",
      "\n",
      "DataFrame one-hot encoded (Pandas) criado com sucesso.\n",
      "Shape: (96478, 32216)\n",
      "Número de cestas (linhas): 96478\n",
      "Número de produtos únicos (colunas): 32216\n",
      "\n",
      "Exemplo das primeiras linhas (head):\n",
      "   00066f42aeeb9f3007548bb9d3f33c38  00088930e925c41fd95ebfe695fd2655  \\\n",
      "0                             False                             False   \n",
      "1                             False                             False   \n",
      "2                             False                             False   \n",
      "3                             False                             False   \n",
      "4                             False                             False   \n",
      "\n",
      "   0009406fd7479715e4bef61dd91f2462  000b8f95fcb9e0096488278317764d19  \\\n",
      "0                             False                             False   \n",
      "1                             False                             False   \n",
      "2                             False                             False   \n",
      "3                             False                             False   \n",
      "4                             False                             False   \n",
      "\n",
      "   000d9be29b5207b54e86aa1b1ac54872  0011c512eb256aa0dbbb544d8dffcf6e  \\\n",
      "0                             False                             False   \n",
      "1                             False                             False   \n",
      "2                             False                             False   \n",
      "3                             False                             False   \n",
      "4                             False                             False   \n",
      "\n",
      "   00126f27c813603687e6ce486d909d01  001795ec6f1b187d37335e1c4704762e  \\\n",
      "0                             False                             False   \n",
      "1                             False                             False   \n",
      "2                             False                             False   \n",
      "3                             False                             False   \n",
      "4                             False                             False   \n",
      "\n",
      "   001b237c0e9bb435f2e54071129237e9  001b72dfd63e9833e8c02742adf472e3  ...  \\\n",
      "0                             False                             False  ...   \n",
      "1                             False                             False  ...   \n",
      "2                             False                             False  ...   \n",
      "3                             False                             False  ...   \n",
      "4                             False                             False  ...   \n",
      "\n",
      "   ffef256879dbadcab7e77950f4f4a195  fff0a542c3c62682f23305214eaeaa24  \\\n",
      "0                             False                             False   \n",
      "1                             False                             False   \n",
      "2                             False                             False   \n",
      "3                             False                             False   \n",
      "4                             False                             False   \n",
      "\n",
      "   fff1059cd247279f3726b7696c66e44e  fff28f91211774864a1000f918ed00cc  \\\n",
      "0                             False                             False   \n",
      "1                             False                             False   \n",
      "2                             False                             False   \n",
      "3                             False                             False   \n",
      "4                             False                             False   \n",
      "\n",
      "   fff515ea94dbf35d54d256b3e39f0fea  fff6177642830a9a94a0f2cba5e476d1  \\\n",
      "0                             False                             False   \n",
      "1                             False                             False   \n",
      "2                             False                             False   \n",
      "3                             False                             False   \n",
      "4                             False                             False   \n",
      "\n",
      "   fff81cc3158d2725c0655ab9ba0f712c  fff9553ac224cec9d15d49f5a263411f  \\\n",
      "0                             False                             False   \n",
      "1                             False                             False   \n",
      "2                             False                             False   \n",
      "3                             False                             False   \n",
      "4                             False                             False   \n",
      "\n",
      "   fffdb2d0ec8d6a61f0a0a0db3f25b441  fffe9eeff12fcbd74a2f2b007dde0c58  \n",
      "0                             False                             False  \n",
      "1                             False                             False  \n",
      "2                             False                             False  \n",
      "3                             False                             False  \n",
      "4                             False                             False  \n",
      "\n",
      "[5 rows x 32216 columns]\n",
      "\n",
      "Este DataFrame está pronto para ser usado no FP-Growth.\n",
      "\n",
      "DataFrame 'df_encoded_pd' gerado com sucesso.\n"
     ]
    }
   ],
   "source": [
    "df_encoded_pd = None # Inicializar a variável de resultado\n",
    "\n",
    "# Verificar se transactions_list existe e foi criada corretamente na célula anterior\n",
    "if 'transactions_list' in locals() and transactions_list is not None and len(transactions_list) > 0:\n",
    "    try:\n",
    "        print(\"Instanciando e aplicando TransactionEncoder...\")\n",
    "        # 7.1 Instanciar o encoder\n",
    "        te = TransactionEncoder()\n",
    "\n",
    "        # 7.2 Treinar (fit) para encontrar todos os itens únicos e transformar (transform)\n",
    "        # O resultado te_ary é um array NumPy booleano\n",
    "        te_ary = te.fit(transactions_list).transform(transactions_list)\n",
    "        print(\"Matriz booleana criada.\")\n",
    "\n",
    "        # 8.1 Criar DataFrame Pandas a partir do array booleano\n",
    "        # As colunas serão os product_ids únicos encontrados pelo te.fit()\n",
    "        df_encoded_pd = pd.DataFrame(te_ary, columns=te.columns_)\n",
    "        print(\"\\nDataFrame one-hot encoded (Pandas) criado com sucesso.\")\n",
    "        print(f\"Shape: {df_encoded_pd.shape}\")\n",
    "        print(f\"Número de cestas (linhas): {df_encoded_pd.shape[0]}\")\n",
    "        print(f\"Número de produtos únicos (colunas): {df_encoded_pd.shape[1]}\")\n",
    "        print(\"\\nExemplo das primeiras linhas (head):\")\n",
    "        print(df_encoded_pd.head())\n",
    "        print(\"\\nEste DataFrame está pronto para ser usado no FP-Growth.\")\n",
    "\n",
    "    except Exception as e:\n",
    "        print(f\"Erro durante a aplicação do TransactionEncoder ou criação do DataFrame: {e}\")\n",
    "        df_encoded_pd = None # Indica que houve erro\n",
    "\n",
    "else:\n",
    "    print(\"ERRO: 'transactions_list' não foi encontrada, está vazia ou não foi criada corretamente.\")\n",
    "    print(\"Execute a célula anterior (Passo 6) com sucesso primeiro.\")\n",
    "\n",
    "# Verificar se a etapa funcionou antes de prosseguir para a próxima célula\n",
    "if df_encoded_pd is None or df_encoded_pd.empty:\n",
    "    print(\"\\nAviso: Falha ao criar DataFrame codificado. Análise não pode prosseguir.\")\n",
    "else:\n",
    "     print(\"\\nDataFrame 'df_encoded_pd' gerado com sucesso.\")"
   ]
  },
  {
   "cell_type": "markdown",
   "metadata": {},
   "source": [
    "#### 🚨 Alerta - Matriz Gigante! \n",
    "- Devido o processo de TransactionEncoder criar uma matriz gigante, devemos tomar cuidados com o processamento da mesma; \n",
    "- Pode ocorrer esgotamento do processamento da máquina, acarretando na falta de memória alocada para o processo; \n",
    "- Em casos extremos, precisamos realizar uma redução de dimensionalidade, seguindo boas práticas para não perder tanta informação. "
   ]
  },
  {
   "cell_type": "code",
   "execution_count": 24,
   "metadata": {},
   "outputs": [
    {
     "data": {
      "text/plain": [
       "(96478, 32216)"
      ]
     },
     "execution_count": 24,
     "metadata": {},
     "output_type": "execute_result"
    }
   ],
   "source": [
    "df_encoded_pd.shape"
   ]
  },
  {
   "cell_type": "code",
   "execution_count": null,
   "metadata": {},
   "outputs": [],
   "source": []
  }
 ],
 "metadata": {
  "kernelspec": {
   "display_name": "Python 3",
   "language": "python",
   "name": "python3"
  },
  "language_info": {
   "codemirror_mode": {
    "name": "ipython",
    "version": 3
   },
   "file_extension": ".py",
   "mimetype": "text/x-python",
   "name": "python",
   "nbconvert_exporter": "python",
   "pygments_lexer": "ipython3",
   "version": "3.9.13"
  }
 },
 "nbformat": 4,
 "nbformat_minor": 2
}
